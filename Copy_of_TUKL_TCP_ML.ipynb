{
  "nbformat": 4,
  "nbformat_minor": 0,
  "metadata": {
    "colab": {
      "name": "Copy of TUKL_TCP_ML.ipynb",
      "provenance": [],
      "collapsed_sections": []
    },
    "kernelspec": {
      "name": "python3",
      "display_name": "Python 3"
    }
  },
  "cells": [
    {
      "cell_type": "markdown",
      "metadata": {
        "id": "vkK9gtCGaXG_",
        "colab_type": "text"
      },
      "source": [
        "# Connecting with the google drive\n",
        "*Logging in to the msyed.bscs17seecs*"
      ]
    },
    {
      "cell_type": "code",
      "metadata": {
        "id": "UX2kOZV8axfl",
        "colab_type": "code",
        "outputId": "0c4c89af-0f6f-43b8-913b-46f3aea3e76e",
        "colab": {
          "base_uri": "https://localhost:8080/",
          "height": 121
        }
      },
      "source": [
        "from google.colab import drive\n",
        "drive.mount('/content/gdrive')"
      ],
      "execution_count": 0,
      "outputs": [
        {
          "output_type": "stream",
          "text": [
            "Go to this URL in a browser: https://accounts.google.com/o/oauth2/auth?client_id=947318989803-6bn6qk8qdgf4n4g3pfee6491hc0brc4i.apps.googleusercontent.com&redirect_uri=urn%3aietf%3awg%3aoauth%3a2.0%3aoob&response_type=code&scope=email%20https%3a%2f%2fwww.googleapis.com%2fauth%2fdocs.test%20https%3a%2f%2fwww.googleapis.com%2fauth%2fdrive%20https%3a%2f%2fwww.googleapis.com%2fauth%2fdrive.photos.readonly%20https%3a%2f%2fwww.googleapis.com%2fauth%2fpeopleapi.readonly\n",
            "\n",
            "Enter your authorization code:\n",
            "··········\n",
            "Mounted at /content/gdrive\n"
          ],
          "name": "stdout"
        }
      ]
    },
    {
      "cell_type": "markdown",
      "metadata": {
        "id": "_A2tnYUca7wG",
        "colab_type": "text"
      },
      "source": [
        "# SETTING PATH TO ROOT\n",
        "*Setting the path to Colab*"
      ]
    },
    {
      "cell_type": "code",
      "metadata": {
        "id": "bK_AVyYcbLdW",
        "colab_type": "code",
        "colab": {}
      },
      "source": [
        "root_path = 'gdrive/My Drive/Colab Notebooks/'"
      ],
      "execution_count": 0,
      "outputs": []
    },
    {
      "cell_type": "markdown",
      "metadata": {
        "id": "kdWZURR4gzKR",
        "colab_type": "text"
      },
      "source": [
        "# IMPORTING\n",
        "\n",
        "importing tensorflow and keras\n",
        "\n"
      ]
    },
    {
      "cell_type": "code",
      "metadata": {
        "id": "ZSyaCCBxiy0T",
        "colab_type": "code",
        "outputId": "94c34da2-db24-4386-f5b3-52cac9858f81",
        "colab": {
          "base_uri": "https://localhost:8080/",
          "height": 978
        }
      },
      "source": [
        "#installing the tensorflow 2.0\n",
        "!pip install tensorflow==2.0.0-beta1\n",
        "\n",
        "import tensorflow as tf\n",
        "import numpy as np\n",
        "import matplotlib.pyplot as plt\n",
        "print(tf.__version__)\n",
        "import pandas as pd"
      ],
      "execution_count": 0,
      "outputs": [
        {
          "output_type": "stream",
          "text": [
            "Collecting tensorflow==2.0.0-beta1\n",
            "\u001b[?25l  Downloading https://files.pythonhosted.org/packages/29/6c/2c9a5c4d095c63c2fb37d20def0e4f92685f7aee9243d6aae25862694fd1/tensorflow-2.0.0b1-cp36-cp36m-manylinux1_x86_64.whl (87.9MB)\n",
            "\u001b[K     |████████████████████████████████| 87.9MB 25kB/s \n",
            "\u001b[?25hRequirement already satisfied: grpcio>=1.8.6 in /usr/local/lib/python3.6/dist-packages (from tensorflow==2.0.0-beta1) (1.15.0)\n",
            "Requirement already satisfied: google-pasta>=0.1.6 in /usr/local/lib/python3.6/dist-packages (from tensorflow==2.0.0-beta1) (0.1.8)\n",
            "Requirement already satisfied: gast>=0.2.0 in /usr/local/lib/python3.6/dist-packages (from tensorflow==2.0.0-beta1) (0.2.2)\n",
            "Requirement already satisfied: keras-applications>=1.0.6 in /usr/local/lib/python3.6/dist-packages (from tensorflow==2.0.0-beta1) (1.0.8)\n",
            "Collecting tb-nightly<1.14.0a20190604,>=1.14.0a20190603\n",
            "\u001b[?25l  Downloading https://files.pythonhosted.org/packages/a4/96/571b875cd81dda9d5dfa1422a4f9d749e67c0a8d4f4f0b33a4e5f5f35e27/tb_nightly-1.14.0a20190603-py3-none-any.whl (3.1MB)\n",
            "\u001b[K     |████████████████████████████████| 3.1MB 834kB/s \n",
            "\u001b[?25hCollecting tf-estimator-nightly<1.14.0.dev2019060502,>=1.14.0.dev2019060501\n",
            "\u001b[?25l  Downloading https://files.pythonhosted.org/packages/32/dd/99c47dd007dcf10d63fd895611b063732646f23059c618a373e85019eb0e/tf_estimator_nightly-1.14.0.dev2019060501-py2.py3-none-any.whl (496kB)\n",
            "\u001b[K     |████████████████████████████████| 501kB 634kB/s \n",
            "\u001b[?25hRequirement already satisfied: absl-py>=0.7.0 in /usr/local/lib/python3.6/dist-packages (from tensorflow==2.0.0-beta1) (0.8.1)\n",
            "Requirement already satisfied: numpy<2.0,>=1.14.5 in /usr/local/lib/python3.6/dist-packages (from tensorflow==2.0.0-beta1) (1.17.4)\n",
            "Requirement already satisfied: six>=1.10.0 in /usr/local/lib/python3.6/dist-packages (from tensorflow==2.0.0-beta1) (1.12.0)\n",
            "Requirement already satisfied: wrapt>=1.11.1 in /usr/local/lib/python3.6/dist-packages (from tensorflow==2.0.0-beta1) (1.11.2)\n",
            "Requirement already satisfied: protobuf>=3.6.1 in /usr/local/lib/python3.6/dist-packages (from tensorflow==2.0.0-beta1) (3.10.0)\n",
            "Requirement already satisfied: wheel>=0.26 in /usr/local/lib/python3.6/dist-packages (from tensorflow==2.0.0-beta1) (0.33.6)\n",
            "Requirement already satisfied: termcolor>=1.1.0 in /usr/local/lib/python3.6/dist-packages (from tensorflow==2.0.0-beta1) (1.1.0)\n",
            "Requirement already satisfied: keras-preprocessing>=1.0.5 in /usr/local/lib/python3.6/dist-packages (from tensorflow==2.0.0-beta1) (1.1.0)\n",
            "Requirement already satisfied: astor>=0.6.0 in /usr/local/lib/python3.6/dist-packages (from tensorflow==2.0.0-beta1) (0.8.0)\n",
            "Requirement already satisfied: h5py in /usr/local/lib/python3.6/dist-packages (from keras-applications>=1.0.6->tensorflow==2.0.0-beta1) (2.8.0)\n",
            "Requirement already satisfied: setuptools>=41.0.0 in /usr/local/lib/python3.6/dist-packages (from tb-nightly<1.14.0a20190604,>=1.14.0a20190603->tensorflow==2.0.0-beta1) (41.6.0)\n",
            "Requirement already satisfied: markdown>=2.6.8 in /usr/local/lib/python3.6/dist-packages (from tb-nightly<1.14.0a20190604,>=1.14.0a20190603->tensorflow==2.0.0-beta1) (3.1.1)\n",
            "Requirement already satisfied: werkzeug>=0.11.15 in /usr/local/lib/python3.6/dist-packages (from tb-nightly<1.14.0a20190604,>=1.14.0a20190603->tensorflow==2.0.0-beta1) (0.16.0)\n",
            "Installing collected packages: tb-nightly, tf-estimator-nightly, tensorflow\n",
            "  Found existing installation: tensorflow 1.15.0\n",
            "    Uninstalling tensorflow-1.15.0:\n",
            "      Successfully uninstalled tensorflow-1.15.0\n",
            "Successfully installed tb-nightly-1.14.0a20190603 tensorflow-2.0.0b1 tf-estimator-nightly-1.14.0.dev2019060501\n"
          ],
          "name": "stdout"
        },
        {
          "output_type": "stream",
          "text": [
            "/usr/local/lib/python3.6/dist-packages/tensorflow/python/framework/dtypes.py:516: FutureWarning: Passing (type, 1) or '1type' as a synonym of type is deprecated; in a future version of numpy, it will be understood as (type, (1,)) / '(1,)type'.\n",
            "  _np_qint8 = np.dtype([(\"qint8\", np.int8, 1)])\n",
            "/usr/local/lib/python3.6/dist-packages/tensorflow/python/framework/dtypes.py:517: FutureWarning: Passing (type, 1) or '1type' as a synonym of type is deprecated; in a future version of numpy, it will be understood as (type, (1,)) / '(1,)type'.\n",
            "  _np_quint8 = np.dtype([(\"quint8\", np.uint8, 1)])\n",
            "/usr/local/lib/python3.6/dist-packages/tensorflow/python/framework/dtypes.py:518: FutureWarning: Passing (type, 1) or '1type' as a synonym of type is deprecated; in a future version of numpy, it will be understood as (type, (1,)) / '(1,)type'.\n",
            "  _np_qint16 = np.dtype([(\"qint16\", np.int16, 1)])\n",
            "/usr/local/lib/python3.6/dist-packages/tensorflow/python/framework/dtypes.py:519: FutureWarning: Passing (type, 1) or '1type' as a synonym of type is deprecated; in a future version of numpy, it will be understood as (type, (1,)) / '(1,)type'.\n",
            "  _np_quint16 = np.dtype([(\"quint16\", np.uint16, 1)])\n",
            "/usr/local/lib/python3.6/dist-packages/tensorflow/python/framework/dtypes.py:520: FutureWarning: Passing (type, 1) or '1type' as a synonym of type is deprecated; in a future version of numpy, it will be understood as (type, (1,)) / '(1,)type'.\n",
            "  _np_qint32 = np.dtype([(\"qint32\", np.int32, 1)])\n",
            "/usr/local/lib/python3.6/dist-packages/tensorflow/python/framework/dtypes.py:525: FutureWarning: Passing (type, 1) or '1type' as a synonym of type is deprecated; in a future version of numpy, it will be understood as (type, (1,)) / '(1,)type'.\n",
            "  np_resource = np.dtype([(\"resource\", np.ubyte, 1)])\n"
          ],
          "name": "stderr"
        },
        {
          "output_type": "stream",
          "text": [
            "2.0.0-beta1\n"
          ],
          "name": "stdout"
        },
        {
          "output_type": "stream",
          "text": [
            "/usr/local/lib/python3.6/dist-packages/tensorboard/compat/tensorflow_stub/dtypes.py:541: FutureWarning: Passing (type, 1) or '1type' as a synonym of type is deprecated; in a future version of numpy, it will be understood as (type, (1,)) / '(1,)type'.\n",
            "  _np_qint8 = np.dtype([(\"qint8\", np.int8, 1)])\n",
            "/usr/local/lib/python3.6/dist-packages/tensorboard/compat/tensorflow_stub/dtypes.py:542: FutureWarning: Passing (type, 1) or '1type' as a synonym of type is deprecated; in a future version of numpy, it will be understood as (type, (1,)) / '(1,)type'.\n",
            "  _np_quint8 = np.dtype([(\"quint8\", np.uint8, 1)])\n",
            "/usr/local/lib/python3.6/dist-packages/tensorboard/compat/tensorflow_stub/dtypes.py:543: FutureWarning: Passing (type, 1) or '1type' as a synonym of type is deprecated; in a future version of numpy, it will be understood as (type, (1,)) / '(1,)type'.\n",
            "  _np_qint16 = np.dtype([(\"qint16\", np.int16, 1)])\n",
            "/usr/local/lib/python3.6/dist-packages/tensorboard/compat/tensorflow_stub/dtypes.py:544: FutureWarning: Passing (type, 1) or '1type' as a synonym of type is deprecated; in a future version of numpy, it will be understood as (type, (1,)) / '(1,)type'.\n",
            "  _np_quint16 = np.dtype([(\"quint16\", np.uint16, 1)])\n",
            "/usr/local/lib/python3.6/dist-packages/tensorboard/compat/tensorflow_stub/dtypes.py:545: FutureWarning: Passing (type, 1) or '1type' as a synonym of type is deprecated; in a future version of numpy, it will be understood as (type, (1,)) / '(1,)type'.\n",
            "  _np_qint32 = np.dtype([(\"qint32\", np.int32, 1)])\n",
            "/usr/local/lib/python3.6/dist-packages/tensorboard/compat/tensorflow_stub/dtypes.py:550: FutureWarning: Passing (type, 1) or '1type' as a synonym of type is deprecated; in a future version of numpy, it will be understood as (type, (1,)) / '(1,)type'.\n",
            "  np_resource = np.dtype([(\"resource\", np.ubyte, 1)])\n"
          ],
          "name": "stderr"
        }
      ]
    },
    {
      "cell_type": "markdown",
      "metadata": {
        "id": "CwKdpY7UbRy9",
        "colab_type": "text"
      },
      "source": [
        "# Data\n",
        "*1) Importing the data from the google colab*\n",
        "\n",
        "*2) Creating an array of RTOs*"
      ]
    },
    {
      "cell_type": "code",
      "metadata": {
        "id": "oZzRqP49bZQs",
        "colab_type": "code",
        "colab": {}
      },
      "source": [
        "import csv\n",
        "load = []\n",
        "time_step = []\n",
        "\n",
        "with open(root_path +'TCP_data/filtered1.csv') as csvfile:\n",
        "  reader = csv.reader(csvfile, delimiter=',')\n",
        "  next(reader)\n",
        "  i =0;\n",
        "  for row in reader:\n",
        "    load.append(float(row[6]))\n",
        "    time_step.append(i)\n",
        "    i += 1"
      ],
      "execution_count": 0,
      "outputs": []
    },
    {
      "cell_type": "markdown",
      "metadata": {
        "id": "j5D8VAj0dCXY",
        "colab_type": "text"
      },
      "source": [
        "# Observing the distribution\n",
        "\n",
        "We are rendering a graph of RTO against time to observe the distribution of the data\n",
        "\n",
        "We are plotting the data with matplot.pyplot\n",
        "\n",
        "We are converting the list into an array with the help numpy library"
      ]
    },
    {
      "cell_type": "code",
      "metadata": {
        "id": "DJvL-SyhcBLG",
        "colab_type": "code",
        "outputId": "8670ea87-ac10-492b-81fe-c8bc27005ea2",
        "colab": {
          "base_uri": "https://localhost:8080/",
          "height": 388
        }
      },
      "source": [
        "import numpy as np\n",
        "import matplotlib.pyplot as plt\n",
        "\n",
        "\n",
        "def plot_series(time, series, format=\"-\", start=0, end=None):\n",
        "    plt.plot(time[start:end], series[start:end], format)\n",
        "    plt.xlabel(\"Time\")\n",
        "    plt.ylabel(\"RTO\")\n",
        "    plt.grid(True)\n",
        "\n",
        "series = np.array(load)\n",
        "time = np.array(time_step)\n",
        "\n",
        "plt.figure(figsize=(10, 6))\n",
        "plot_series(time, series)"
      ],
      "execution_count": 0,
      "outputs": [
        {
          "output_type": "display_data",
          "data": {
            "image/png": "[encoded data removed]",
            "text/plain": [
              "<Figure size 720x432 with 1 Axes>"
            ]
          },
          "metadata": {
            "tags": []
          }
        }
      ]
    },
    {
      "cell_type": "markdown",
      "metadata": {
        "id": "1PrUtiYge3X7",
        "colab_type": "text"
      },
      "source": [
        "# DATA DIVISION\n",
        "We seperate the data into two set with an approximately 9:1 ratio\n",
        "\n",
        "1) Training set\n",
        "\n",
        "2) Validation set"
      ]
    },
    {
      "cell_type": "code",
      "metadata": {
        "id": "WjVDDCPVfYCI",
        "colab_type": "code",
        "colab": {}
      },
      "source": [
        "split_time = 8000\n",
        "time_train = time[:split_time]\n",
        "x_train = load[:split_time]\n",
        "time_valid = time[split_time:]\n",
        "x_valid = load[split_time:]"
      ],
      "execution_count": 0,
      "outputs": []
    },
    {
      "cell_type": "markdown",
      "metadata": {
        "id": "Ie5vKRhmfm2S",
        "colab_type": "text"
      },
      "source": [
        "# Sequence generation\n",
        "\n",
        "Generating sequeces of the data that is to be fed into the machine learning architecture"
      ]
    },
    {
      "cell_type": "code",
      "metadata": {
        "id": "kpnNRnW8fliQ",
        "colab_type": "code",
        "colab": {}
      },
      "source": [
        "window_size = 4\n",
        "batch_size = 32\n",
        "shuffle_buffer_size = 1000\n",
        "\n",
        "def windowed_dataset(series, window_size, batch_size, shuffle_buffer):\n",
        "  dataset = tf.data.Dataset.from_tensor_slices(series)\n",
        "  dataset = dataset.window(window_size + 1, shift=1, drop_remainder=True)\n",
        "  dataset = dataset.flat_map(lambda window: window.batch(window_size + 1))\n",
        "  dataset = dataset.shuffle(shuffle_buffer).map(lambda window: (window[:-1], window[-1]))\n",
        "  dataset = dataset.batch(batch_size).prefetch(1)\n",
        "  return dataset\n",
        "\n",
        "dataset = windowed_dataset(x_train, window_size, batch_size, shuffle_buffer_size)"
      ],
      "execution_count": 0,
      "outputs": []
    },
    {
      "cell_type": "markdown",
      "metadata": {
        "id": "q2HTRb5qmPfa",
        "colab_type": "text"
      },
      "source": [
        "# Defining AI architecture\n",
        "\n",
        "Input layer\n",
        "\n",
        "\\\\/ \\\\/ \\\\/ \\\\/\n",
        "\n",
        "20 Dense Unit\n",
        "\n",
        "\\\\/ \\\\/ \\\\/ \\\\/\n",
        "\n",
        "10 Dense Unit\n",
        "\n",
        "\\\\/ \\\\/ \\\\/ \\\\/\n",
        "\n",
        "1 Dense Unit\n",
        "\n",
        "\\\\/ \\\\/ \\\\/ \\\\/\n",
        "\n",
        "Output layer\n"
      ]
    },
    {
      "cell_type": "code",
      "metadata": {
        "id": "ADzOTky-gfid",
        "colab_type": "code",
        "colab": {}
      },
      "source": [
        "dataset = windowed_dataset(x_train, window_size, batch_size, shuffle_buffer_size)\n",
        "\n",
        "model = tf.keras.models.Sequential([\n",
        "    tf.keras.layers.Dense(20, input_shape=[window_size], activation=\"relu\"), \n",
        "    tf.keras.layers.Dense(10, activation=\"relu\"),\n",
        "    tf.keras.layers.Dense(1)\n",
        "])"
      ],
      "execution_count": 0,
      "outputs": []
    },
    {
      "cell_type": "markdown",
      "metadata": {
        "id": "tZt-0LLZm-dm",
        "colab_type": "text"
      },
      "source": [
        "# Selection loss function and Training\n",
        "\n",
        "loss function = Mean Absolute Percentage Error\n",
        "\n",
        "Optimizer = Adams\n",
        "\n",
        "Training"
      ]
    },
    {
      "cell_type": "code",
      "metadata": {
        "id": "Z_2lvcFgnRXj",
        "colab_type": "code",
        "outputId": "35053c8c-ec87-4802-9668-5f89d6cd0e9e",
        "colab": {
          "base_uri": "https://localhost:8080/",
          "height": 1000
        }
      },
      "source": [
        "model.compile(loss=\"mean_absolute_percentage_error\", optimizer='adam', metrics=[\"mape\"])\n",
        "history = model.fit(dataset,epochs=100,verbose=1)"
      ],
      "execution_count": 0,
      "outputs": [
        {
          "output_type": "stream",
          "text": [
            "Epoch 1/100\n",
            "250/250 [==============================] - 3s 11ms/step - loss: 99676.7231 - mape: 99726.5000\n",
            "Epoch 2/100\n",
            "250/250 [==============================] - 1s 4ms/step - loss: 78681.7379 - mape: 78720.8828\n",
            "Epoch 3/100\n",
            "250/250 [==============================] - 1s 4ms/step - loss: 49314.6010 - mape: 49339.1094\n",
            "Epoch 4/100\n",
            "250/250 [==============================] - 1s 4ms/step - loss: 29668.4088 - mape: 29683.1250\n",
            "Epoch 5/100\n",
            "250/250 [==============================] - 1s 4ms/step - loss: 47636.0560 - mape: 47659.7305\n",
            "Epoch 6/100\n",
            "250/250 [==============================] - 1s 4ms/step - loss: 36695.0958 - mape: 36713.3398\n",
            "Epoch 7/100\n",
            "250/250 [==============================] - 1s 4ms/step - loss: 44200.8701 - mape: 44222.8359\n",
            "Epoch 8/100\n",
            "250/250 [==============================] - 1s 5ms/step - loss: 43467.6939 - mape: 43489.2969\n",
            "Epoch 9/100\n",
            "250/250 [==============================] - 1s 4ms/step - loss: 39719.7555 - mape: 39739.4961\n",
            "Epoch 10/100\n",
            "250/250 [==============================] - 1s 5ms/step - loss: 24925.2370 - mape: 24937.6035\n",
            "Epoch 11/100\n",
            "250/250 [==============================] - 1s 4ms/step - loss: 47020.1073 - mape: 47043.4844\n",
            "Epoch 12/100\n",
            "250/250 [==============================] - 1s 5ms/step - loss: 22796.8732 - mape: 22808.1797\n",
            "Epoch 13/100\n",
            "250/250 [==============================] - 1s 4ms/step - loss: 43782.7746 - mape: 43804.5391\n",
            "Epoch 14/100\n",
            "250/250 [==============================] - 1s 4ms/step - loss: 22260.8406 - mape: 22271.8711\n",
            "Epoch 15/100\n",
            "250/250 [==============================] - 1s 5ms/step - loss: 41188.5275 - mape: 41209.0000\n",
            "Epoch 16/100\n",
            "250/250 [==============================] - 1s 4ms/step - loss: 18015.6229 - mape: 18024.5469\n",
            "Epoch 17/100\n",
            "250/250 [==============================] - 1s 4ms/step - loss: 30394.2791 - mape: 30409.3711\n",
            "Epoch 18/100\n",
            "250/250 [==============================] - 1s 4ms/step - loss: 25710.9709 - mape: 25723.7227\n",
            "Epoch 19/100\n",
            "250/250 [==============================] - 1s 4ms/step - loss: 29649.9780 - mape: 29664.7012\n",
            "Epoch 20/100\n",
            "250/250 [==============================] - 1s 4ms/step - loss: 26999.1543 - mape: 27012.5566\n",
            "Epoch 21/100\n",
            "250/250 [==============================] - 1s 5ms/step - loss: 29476.5532 - mape: 29491.1855\n",
            "Epoch 22/100\n",
            "250/250 [==============================] - 1s 4ms/step - loss: 18462.6542 - mape: 18471.8008\n",
            "Epoch 23/100\n",
            "250/250 [==============================] - 1s 4ms/step - loss: 32165.8549 - mape: 32181.8340\n",
            "Epoch 24/100\n",
            "250/250 [==============================] - 1s 5ms/step - loss: 16955.5674 - mape: 16963.9668\n",
            "Epoch 25/100\n",
            "250/250 [==============================] - 1s 4ms/step - loss: 30693.8431 - mape: 30709.0840\n",
            "Epoch 26/100\n",
            "250/250 [==============================] - 1s 5ms/step - loss: 17253.8294 - mape: 17262.3730\n",
            "Epoch 27/100\n",
            "250/250 [==============================] - 1s 4ms/step - loss: 29265.7569 - mape: 29280.2969\n",
            "Epoch 28/100\n",
            "250/250 [==============================] - 1s 4ms/step - loss: 16905.0451 - mape: 16913.4238\n",
            "Epoch 29/100\n",
            "250/250 [==============================] - 1s 5ms/step - loss: 25115.8631 - mape: 25128.3262\n",
            "Epoch 30/100\n",
            "250/250 [==============================] - 1s 5ms/step - loss: 16538.0047 - mape: 16546.1973\n",
            "Epoch 31/100\n",
            "250/250 [==============================] - 1s 4ms/step - loss: 24880.8476 - mape: 24893.1973\n",
            "Epoch 32/100\n",
            "250/250 [==============================] - 1s 4ms/step - loss: 14814.5990 - mape: 14821.9199\n",
            "Epoch 33/100\n",
            "250/250 [==============================] - 1s 4ms/step - loss: 24397.8643 - mape: 24409.9707\n",
            "Epoch 34/100\n",
            "250/250 [==============================] - 1s 4ms/step - loss: 14094.2913 - mape: 14101.2695\n",
            "Epoch 35/100\n",
            "250/250 [==============================] - 1s 4ms/step - loss: 23319.6448 - mape: 23331.2090\n",
            "Epoch 36/100\n",
            "250/250 [==============================] - 1s 4ms/step - loss: 12528.6681 - mape: 12534.8574\n",
            "Epoch 37/100\n",
            "250/250 [==============================] - 1s 4ms/step - loss: 21397.9581 - mape: 21408.5664\n",
            "Epoch 38/100\n",
            "250/250 [==============================] - 1s 4ms/step - loss: 14034.4354 - mape: 14041.3730\n",
            "Epoch 39/100\n",
            "250/250 [==============================] - 1s 4ms/step - loss: 18712.9602 - mape: 18722.2324\n",
            "Epoch 40/100\n",
            "250/250 [==============================] - 1s 4ms/step - loss: 10543.3331 - mape: 10548.5342\n",
            "Epoch 41/100\n",
            "250/250 [==============================] - 1s 4ms/step - loss: 18971.6943 - mape: 18981.0996\n",
            "Epoch 42/100\n",
            "250/250 [==============================] - 1s 4ms/step - loss: 10886.7482 - mape: 10892.1172\n",
            "Epoch 43/100\n",
            "250/250 [==============================] - 1s 4ms/step - loss: 17354.2217 - mape: 17362.8223\n",
            "Epoch 44/100\n",
            "250/250 [==============================] - 1s 4ms/step - loss: 12891.0125 - mape: 12897.3848\n",
            "Epoch 45/100\n",
            "250/250 [==============================] - 1s 4ms/step - loss: 18607.4023 - mape: 18616.6250\n",
            "Epoch 46/100\n",
            "250/250 [==============================] - 1s 4ms/step - loss: 11609.2707 - mape: 11615.0068\n",
            "Epoch 47/100\n",
            "250/250 [==============================] - 1s 4ms/step - loss: 13972.6083 - mape: 13979.5234\n",
            "Epoch 48/100\n",
            "250/250 [==============================] - 1s 5ms/step - loss: 8866.1415 - mape: 8870.5059\n",
            "Epoch 49/100\n",
            "250/250 [==============================] - 1s 4ms/step - loss: 19355.6511 - mape: 19365.2461\n",
            "Epoch 50/100\n",
            "250/250 [==============================] - 1s 4ms/step - loss: 13589.4738 - mape: 13596.1963\n",
            "Epoch 51/100\n",
            "250/250 [==============================] - 1s 4ms/step - loss: 12264.8984 - mape: 12270.9580\n",
            "Epoch 52/100\n",
            "250/250 [==============================] - 1s 4ms/step - loss: 13500.4057 - mape: 13507.0791\n",
            "Epoch 53/100\n",
            "250/250 [==============================] - 1s 4ms/step - loss: 12654.9668 - mape: 12661.2227\n",
            "Epoch 54/100\n",
            "250/250 [==============================] - 1s 4ms/step - loss: 9166.1196 - mape: 9170.6338\n",
            "Epoch 55/100\n",
            "250/250 [==============================] - 1s 4ms/step - loss: 11754.9183 - mape: 11760.7266\n",
            "Epoch 56/100\n",
            "250/250 [==============================] - 1s 4ms/step - loss: 12597.2275 - mape: 12603.4531\n",
            "Epoch 57/100\n",
            "250/250 [==============================] - 1s 4ms/step - loss: 10213.9371 - mape: 10218.9736\n",
            "Epoch 58/100\n",
            "250/250 [==============================] - 1s 5ms/step - loss: 11508.7429 - mape: 11514.4238\n",
            "Epoch 59/100\n",
            "250/250 [==============================] - 1s 4ms/step - loss: 10507.4544 - mape: 10512.6455\n",
            "Epoch 60/100\n",
            "250/250 [==============================] - 1s 4ms/step - loss: 10274.0244 - mape: 10279.0938\n",
            "Epoch 61/100\n",
            "250/250 [==============================] - 1s 4ms/step - loss: 8582.5171 - mape: 8586.7422\n",
            "Epoch 62/100\n",
            "250/250 [==============================] - 1s 4ms/step - loss: 10378.2696 - mape: 10383.3906\n",
            "Epoch 63/100\n",
            "250/250 [==============================] - 1s 4ms/step - loss: 9681.2911 - mape: 9686.0684\n",
            "Epoch 64/100\n",
            "250/250 [==============================] - 1s 4ms/step - loss: 8698.4127 - mape: 8702.6963\n",
            "Epoch 65/100\n",
            "250/250 [==============================] - 1s 5ms/step - loss: 7216.7342 - mape: 7220.2812\n",
            "Epoch 66/100\n",
            "250/250 [==============================] - 1s 4ms/step - loss: 9951.6463 - mape: 9956.5576\n",
            "Epoch 67/100\n",
            "250/250 [==============================] - 1s 4ms/step - loss: 6736.5981 - mape: 6739.9023\n",
            "Epoch 68/100\n",
            "250/250 [==============================] - 1s 4ms/step - loss: 8149.1286 - mape: 8153.1392\n",
            "Epoch 69/100\n",
            "250/250 [==============================] - 1s 4ms/step - loss: 5928.9597 - mape: 5931.8604\n",
            "Epoch 70/100\n",
            "250/250 [==============================] - 1s 4ms/step - loss: 15420.2853 - mape: 15427.9150\n",
            "Epoch 71/100\n",
            "250/250 [==============================] - 1s 4ms/step - loss: 9070.6238 - mape: 9075.0889\n",
            "Epoch 72/100\n",
            "250/250 [==============================] - 1s 4ms/step - loss: 5660.2646 - mape: 5663.0352\n",
            "Epoch 73/100\n",
            "250/250 [==============================] - 1s 4ms/step - loss: 5464.9987 - mape: 5467.6704\n",
            "Epoch 74/100\n",
            "250/250 [==============================] - 1s 4ms/step - loss: 6109.8682 - mape: 6112.8604\n",
            "Epoch 75/100\n",
            "250/250 [==============================] - 1s 4ms/step - loss: 5955.1196 - mape: 5958.0361\n",
            "Epoch 76/100\n",
            "250/250 [==============================] - 1s 5ms/step - loss: 5560.6894 - mape: 5563.4102\n",
            "Epoch 77/100\n",
            "250/250 [==============================] - 1s 4ms/step - loss: 6027.1684 - mape: 6030.1216\n",
            "Epoch 78/100\n",
            "250/250 [==============================] - 1s 4ms/step - loss: 5144.8098 - mape: 5147.3208\n",
            "Epoch 79/100\n",
            "250/250 [==============================] - 1s 4ms/step - loss: 9709.0395 - mape: 9713.8291\n",
            "Epoch 80/100\n",
            "250/250 [==============================] - 1s 4ms/step - loss: 5474.9923 - mape: 5477.6714\n",
            "Epoch 81/100\n",
            "250/250 [==============================] - 1s 4ms/step - loss: 3204.1366 - mape: 3205.6841\n",
            "Epoch 82/100\n",
            "250/250 [==============================] - 1s 4ms/step - loss: 4909.6702 - mape: 4912.0669\n",
            "Epoch 83/100\n",
            "250/250 [==============================] - 1s 4ms/step - loss: 6399.6217 - mape: 6402.7607\n",
            "Epoch 84/100\n",
            "250/250 [==============================] - 1s 5ms/step - loss: 5927.0624 - mape: 5929.9658\n",
            "Epoch 85/100\n",
            "250/250 [==============================] - 1s 4ms/step - loss: 3652.3023 - mape: 3654.0715\n",
            "Epoch 86/100\n",
            "250/250 [==============================] - 1s 5ms/step - loss: 5085.0923 - mape: 5087.5752\n",
            "Epoch 87/100\n",
            "250/250 [==============================] - 1s 5ms/step - loss: 3844.4977 - mape: 3846.3628\n",
            "Epoch 88/100\n",
            "250/250 [==============================] - 1s 5ms/step - loss: 4407.6218 - mape: 4409.7671\n",
            "Epoch 89/100\n",
            "250/250 [==============================] - 1s 5ms/step - loss: 8218.0161 - mape: 8222.0586\n",
            "Epoch 90/100\n",
            "250/250 [==============================] - 1s 4ms/step - loss: 3978.6801 - mape: 3980.6130\n",
            "Epoch 91/100\n",
            "250/250 [==============================] - 1s 4ms/step - loss: 4248.5467 - mape: 4250.6128\n",
            "Epoch 92/100\n",
            "250/250 [==============================] - 1s 4ms/step - loss: 3724.7564 - mape: 3726.5620\n",
            "Epoch 93/100\n",
            "250/250 [==============================] - 1s 4ms/step - loss: 3861.6452 - mape: 3863.5210\n",
            "Epoch 94/100\n",
            "250/250 [==============================] - 1s 4ms/step - loss: 2895.1035 - mape: 2896.4966\n",
            "Epoch 95/100\n",
            "250/250 [==============================] - 1s 4ms/step - loss: 3885.8370 - mape: 3887.7231\n",
            "Epoch 96/100\n",
            "250/250 [==============================] - 1s 4ms/step - loss: 2644.5614 - mape: 2645.8284\n",
            "Epoch 97/100\n",
            "250/250 [==============================] - 1s 4ms/step - loss: 3042.4589 - mape: 3043.9238\n",
            "Epoch 98/100\n",
            "250/250 [==============================] - 1s 4ms/step - loss: 3103.6759 - mape: 3105.1729\n",
            "Epoch 99/100\n",
            "250/250 [==============================] - 1s 4ms/step - loss: 2145.7178 - mape: 2146.7368\n",
            "Epoch 100/100\n",
            "250/250 [==============================] - 1s 4ms/step - loss: 9479.9988 - mape: 9484.6680\n"
          ],
          "name": "stdout"
        }
      ]
    },
    {
      "cell_type": "markdown",
      "metadata": {
        "id": "bloeFMhnn6KW",
        "colab_type": "text"
      },
      "source": [
        "# Forecasting\n",
        "\n",
        "Using the trained model to predict the validation set"
      ]
    },
    {
      "cell_type": "code",
      "metadata": {
        "id": "CT2xB_UonS6R",
        "colab_type": "code",
        "colab": {}
      },
      "source": [
        "forecast=[]\n",
        "for time in range(len(series) - window_size):\n",
        "  forecast.append(model.predict(series[time:time + window_size][np.newaxis]))\n",
        "\n",
        "forecast = forecast[split_time-window_size:]\n",
        "results = np.array(forecast)[:, 0, 0]"
      ],
      "execution_count": 0,
      "outputs": []
    },
    {
      "cell_type": "markdown",
      "metadata": {
        "id": "K8JBhxALoS4m",
        "colab_type": "text"
      },
      "source": [
        "# Analyzing Predictions\n",
        "\n",
        "Printing the loss function\n",
        "\n",
        "Displaying the results on graph"
      ]
    },
    {
      "cell_type": "code",
      "metadata": {
        "id": "uazLYROjoLnW",
        "colab_type": "code",
        "outputId": "110d4954-d932-4715-cfa4-7c3111b6648e",
        "colab": {
          "base_uri": "https://localhost:8080/",
          "height": 405
        }
      },
      "source": [
        "print(tf.keras.metrics.mean_absolute_percentage_error(x_valid, results).numpy())\n",
        "\n",
        "plt.figure(figsize=(10, 6))\n",
        "\n",
        "plot_series(time_valid[:250], x_valid[:250])\n",
        "plot_series(time_valid[:250], results[:250])\n"
      ],
      "execution_count": 0,
      "outputs": [
        {
          "output_type": "stream",
          "text": [
            "1813.012\n"
          ],
          "name": "stdout"
        },
        {
          "output_type": "display_data",
          "data": {
            "image/png": "[encoded data removed]",
            "text/plain": [
              "<Figure size 720x432 with 1 Axes>"
            ]
          },
          "metadata": {
            "tags": []
          }
        }
      ]
    },
    {
      "cell_type": "markdown",
      "metadata": {
        "id": "7oBS7ph7ou9e",
        "colab_type": "text"
      },
      "source": [
        "# Analyzing Training History\n",
        "\n",
        "plotting the graph of loss vs epochs\n",
        "\n",
        "plotting the graph of MAPE vs epochs"
      ]
    },
    {
      "cell_type": "code",
      "metadata": {
        "id": "BDUYtgaIolos",
        "colab_type": "code",
        "outputId": "ae2c947d-414d-4141-af0c-c68884e818ac",
        "colab": {
          "base_uri": "https://localhost:8080/",
          "height": 607
        }
      },
      "source": [
        "#-----------------------------------------------------------\n",
        "# Retrieve a list of list results on training and test data\n",
        "# sets for each training epoch\n",
        "#-----------------------------------------------------------\n",
        "mape=history.history['mape']\n",
        "loss=history.history['loss']\n",
        "\n",
        "epochs=range(len(loss)) # Get number of epochs\n",
        "\n",
        "#------------------------------------------------\n",
        "# Plot MAPE and Loss\n",
        "#------------------------------------------------\n",
        "plt.plot(epochs, mape, 'r')\n",
        "plt.plot(epochs, loss, 'b')\n",
        "plt.title('MAPE and Loss')\n",
        "plt.xlabel(\"Epochs\")\n",
        "plt.ylabel(\"Accuracy\")\n",
        "plt.legend([\"MAPE\", \"Loss\"])\n",
        "\n",
        "plt.figure()\n",
        "\n",
        "epochs_zoom = epochs[20:]\n",
        "mae_zoom = mape[20:]\n",
        "loss_zoom = loss[20:]\n",
        "\n",
        "#------------------------------------------------\n",
        "# Plot Zoomed MAPE and Loss\n",
        "#------------------------------------------------\n",
        "plt.plot(epochs_zoom, mae_zoom, 'r')\n",
        "plt.plot(epochs_zoom, loss_zoom, 'b')\n",
        "plt.title('MAPE and Loss')\n",
        "plt.xlabel(\"Epochs\")\n",
        "plt.ylabel(\"Accuracy\")\n",
        "plt.legend([\"MAPE\", \"Loss\"])\n",
        "\n",
        "plt.figure()"
      ],
      "execution_count": 0,
      "outputs": [
        {
          "output_type": "execute_result",
          "data": {
            "text/plain": [
              "<Figure size 432x288 with 0 Axes>"
            ]
          },
          "metadata": {
            "tags": []
          },
          "execution_count": 21
        },
        {
          "output_type": "display_data",
          "data": {
            "image/png": "[encoded data removed]",
            "text/plain": [
              "<Figure size 432x288 with 1 Axes>"
            ]
          },
          "metadata": {
            "tags": []
          }
        },
        {
          "output_type": "display_data",
          "data": {
            "image/png": "[encoded data removed]",
            "text/plain": [
              "<Figure size 432x288 with 1 Axes>"
            ]
          },
          "metadata": {
            "tags": []
          }
        },
        {
          "output_type": "display_data",
          "data": {
            "text/plain": [
              "<Figure size 432x288 with 0 Axes>"
            ]
          },
          "metadata": {
            "tags": []
          }
        }
      ]
    },
    {
      "cell_type": "code",
      "metadata": {
        "id": "WelyeUlvpAHY",
        "colab_type": "code",
        "colab": {}
      },
      "source": [
        ""
      ],
      "execution_count": 0,
      "outputs": []
    }
  ]
}